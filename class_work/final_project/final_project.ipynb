{
 "cells": [
  {
   "cell_type": "code",
   "execution_count": 1,
   "metadata": {
    "collapsed": false
   },
   "outputs": [
    {
     "name": "stderr",
     "output_type": "stream",
     "text": [
      "/Users/chouy/anaconda2/lib/python2.7/site-packages/matplotlib/font_manager.py:273: UserWarning: Matplotlib is building the font cache using fc-list. This may take a moment.\n",
      "  warnings.warn('Matplotlib is building the font cache using fc-list. This may take a moment.')\n"
     ]
    }
   ],
   "source": [
    "%matplotlib inline"
   ]
  },
  {
   "cell_type": "code",
   "execution_count": 2,
   "metadata": {
    "collapsed": true
   },
   "outputs": [],
   "source": [
    "import pandas as pd\n",
    "import sqlite3\n",
    "import gzip"
   ]
  },
  {
   "cell_type": "code",
   "execution_count": 3,
   "metadata": {
    "collapsed": false
   },
   "outputs": [
    {
     "name": "stdout",
     "output_type": "stream",
     "text": [
      "<class 'pandas.core.frame.DataFrame'>\n",
      "RangeIndex: 15414 entries, 0 to 15413\n",
      "Data columns (total 8 columns):\n",
      "0    15414 non-null int64\n",
      "1    15414 non-null int64\n",
      "2    15414 non-null object\n",
      "3    15414 non-null object\n",
      "4    15414 non-null object\n",
      "5    15414 non-null object\n",
      "6    15414 non-null object\n",
      "7    15414 non-null object\n",
      "dtypes: int64(2), object(6)\n",
      "memory usage: 963.4+ KB\n",
      "None\n",
      "    0         1  2  3  4  5  6  \\\n",
      "0  22  17071756  .  T  C  .  .   \n",
      "1  22  17072035  .  C  T  .  .   \n",
      "2  22  17072258  .  C  A  .  .   \n",
      "3  22  17072674  .  G  A  .  .   \n",
      "4  22  17072747  .  T  C  .  .   \n",
      "\n",
      "                                                   7  \n",
      "0  ANN=C|downstream_gene_variant|MODIFIER|AC00694...  \n",
      "1  ANN=T|downstream_gene_variant|MODIFIER|AC00694...  \n",
      "2  ANN=A|downstream_gene_variant|MODIFIER|AC00694...  \n",
      "3  ANN=A|downstream_gene_variant|MODIFIER|AC00694...  \n",
      "4  ANN=C|downstream_gene_variant|MODIFIER|AC00694...  \n"
     ]
    }
   ],
   "source": [
    "data = pd.read_csv('test.chr22.ann.vcf.gz', compression='gzip', header=None, comment='#', sep='\\t', quotechar='\"', error_bad_lines=False)\n",
    "print(data.info())\n",
    "print(data.head())\n"
   ]
  },
  {
   "cell_type": "code",
   "execution_count": 4,
   "metadata": {
    "collapsed": false
   },
   "outputs": [
    {
     "name": "stdout",
     "output_type": "stream",
     "text": [
      "<class 'pandas.core.frame.DataFrame'>\n",
      "RangeIndex: 15414 entries, 0 to 15413\n",
      "Data columns (total 8 columns):\n",
      "CHROM     15414 non-null int64\n",
      "POS       15414 non-null int64\n",
      "ID        15414 non-null object\n",
      "REF       15414 non-null object\n",
      "ALT       15414 non-null object\n",
      "QUAL      15414 non-null object\n",
      "FILTER    15414 non-null object\n",
      "INFO      15414 non-null object\n",
      "dtypes: int64(2), object(6)\n",
      "memory usage: 963.4+ KB\n",
      "None\n"
     ]
    }
   ],
   "source": [
    "data.columns = ['CHROM', 'POS', 'ID', 'REF', 'ALT', 'QUAL', 'FILTER', 'INFO']\n",
    "print(data.info())"
   ]
  },
  {
   "cell_type": "code",
   "execution_count": 5,
   "metadata": {
    "collapsed": false
   },
   "outputs": [
    {
     "name": "stdout",
     "output_type": "stream",
     "text": [
      "<class 'pandas.core.frame.DataFrame'>\n",
      "RangeIndex: 15414 entries, 0 to 15413\n",
      "Data columns (total 4 columns):\n",
      "CHROM    15414 non-null int64\n",
      "POS      15414 non-null int64\n",
      "ID       15414 non-null object\n",
      "INFO     15414 non-null object\n",
      "dtypes: int64(2), object(2)\n",
      "memory usage: 481.8+ KB\n",
      "None\n",
      "   CHROM       POS ID                                               INFO\n",
      "0     22  17071756  .  ANN=C|downstream_gene_variant|MODIFIER|AC00694...\n",
      "1     22  17072035  .  ANN=T|downstream_gene_variant|MODIFIER|AC00694...\n",
      "2     22  17072258  .  ANN=A|downstream_gene_variant|MODIFIER|AC00694...\n",
      "3     22  17072674  .  ANN=A|downstream_gene_variant|MODIFIER|AC00694...\n",
      "4     22  17072747  .  ANN=C|downstream_gene_variant|MODIFIER|AC00694...\n"
     ]
    }
   ],
   "source": [
    "import sqlite3\n",
    "\n",
    "conn = sqlite3.connect('biopython.db')\n",
    "curs = conn.cursor()\n",
    "data.to_sql('chromosome', conn, if_exists='replace')\n",
    "\n",
    "query = '''\n",
    "SELECT CHROM, POS, ID, INFO \n",
    "FROM chromosome\n",
    "'''\n",
    "\n",
    "data2 = pd.read_sql(query, conn)\n",
    "\n",
    "conn.commit()\n",
    "curs.close()\n",
    "conn.close()\n",
    "print( data2.info())\n",
    "print( data2.head())"
   ]
  },
  {
   "cell_type": "code",
   "execution_count": 9,
   "metadata": {
    "collapsed": false
   },
   "outputs": [
    {
     "name": "stdout",
     "output_type": "stream",
     "text": [
      "<class 'pandas.core.frame.DataFrame'>\n",
      "RangeIndex: 10 entries, 0 to 9\n",
      "Data columns (total 4 columns):\n",
      "CHROM    10 non-null int64\n",
      "POS      10 non-null int64\n",
      "ID       10 non-null object\n",
      "INFO     10 non-null object\n",
      "dtypes: int64(2), object(2)\n",
      "memory usage: 392.0+ bytes\n",
      "None\n",
      "   CHROM       POS ID                                               INFO\n",
      "0     22  17071756  .  ANN=C|downstream_gene_variant|MODIFIER|AC00694...\n",
      "1     22  17072035  .  ANN=T|downstream_gene_variant|MODIFIER|AC00694...\n",
      "2     22  17072258  .  ANN=A|downstream_gene_variant|MODIFIER|AC00694...\n",
      "3     22  17072674  .  ANN=A|downstream_gene_variant|MODIFIER|AC00694...\n",
      "4     22  17072747  .  ANN=C|downstream_gene_variant|MODIFIER|AC00694...\n"
     ]
    }
   ],
   "source": [
    "#chrom = 22\n",
    "#term1 = 'downstream_gene_variant'\n",
    "#term2 = 'MODIFIER'\n",
    "\n",
    "conn = sqlite3.connect('biopython.db')\n",
    "curs = conn.cursor()\n",
    "\n",
    "query = '''\n",
    "SELECT CHROM, POS, ID, INFO\n",
    "FROM chromosome\n",
    "WHERE CHROM = 22 AND INFO LIKE '%downstream_gene_variant%' AND INFO LIKE '%MODIFIER%' \n",
    "LIMIT 10\n",
    "'''\n",
    "\n",
    "data2 = pd.read_sql(query, conn)\n",
    "print( data2.info())\n",
    "print( data2.head())\n"
   ]
  },
  {
   "cell_type": "code",
   "execution_count": 10,
   "metadata": {
    "collapsed": false
   },
   "outputs": [
    {
     "data": {
      "text/html": [
       "<div>\n",
       "<table border=\"1\" class=\"dataframe\">\n",
       "  <thead>\n",
       "    <tr style=\"text-align: right;\">\n",
       "      <th></th>\n",
       "      <th>CHROM</th>\n",
       "      <th>POS</th>\n",
       "      <th>ID</th>\n",
       "      <th>INFO</th>\n",
       "    </tr>\n",
       "  </thead>\n",
       "  <tbody>\n",
       "    <tr>\n",
       "      <th>0</th>\n",
       "      <td>22</td>\n",
       "      <td>17071756</td>\n",
       "      <td>.</td>\n",
       "      <td>ANN=C|downstream_gene_variant|MODIFIER|AC00694...</td>\n",
       "    </tr>\n",
       "    <tr>\n",
       "      <th>1</th>\n",
       "      <td>22</td>\n",
       "      <td>17072035</td>\n",
       "      <td>.</td>\n",
       "      <td>ANN=T|downstream_gene_variant|MODIFIER|AC00694...</td>\n",
       "    </tr>\n",
       "    <tr>\n",
       "      <th>2</th>\n",
       "      <td>22</td>\n",
       "      <td>17072258</td>\n",
       "      <td>.</td>\n",
       "      <td>ANN=A|downstream_gene_variant|MODIFIER|AC00694...</td>\n",
       "    </tr>\n",
       "    <tr>\n",
       "      <th>3</th>\n",
       "      <td>22</td>\n",
       "      <td>17072674</td>\n",
       "      <td>.</td>\n",
       "      <td>ANN=A|downstream_gene_variant|MODIFIER|AC00694...</td>\n",
       "    </tr>\n",
       "    <tr>\n",
       "      <th>4</th>\n",
       "      <td>22</td>\n",
       "      <td>17072747</td>\n",
       "      <td>.</td>\n",
       "      <td>ANN=C|downstream_gene_variant|MODIFIER|AC00694...</td>\n",
       "    </tr>\n",
       "    <tr>\n",
       "      <th>5</th>\n",
       "      <td>22</td>\n",
       "      <td>17072781</td>\n",
       "      <td>.</td>\n",
       "      <td>ANN=T|downstream_gene_variant|MODIFIER|AC00694...</td>\n",
       "    </tr>\n",
       "    <tr>\n",
       "      <th>6</th>\n",
       "      <td>22</td>\n",
       "      <td>17073043</td>\n",
       "      <td>.</td>\n",
       "      <td>ANN=T|downstream_gene_variant|MODIFIER|AC00694...</td>\n",
       "    </tr>\n",
       "    <tr>\n",
       "      <th>7</th>\n",
       "      <td>22</td>\n",
       "      <td>17073066</td>\n",
       "      <td>.</td>\n",
       "      <td>ANN=G|downstream_gene_variant|MODIFIER|AC00694...</td>\n",
       "    </tr>\n",
       "    <tr>\n",
       "      <th>8</th>\n",
       "      <td>22</td>\n",
       "      <td>17073119</td>\n",
       "      <td>.</td>\n",
       "      <td>ANN=T|downstream_gene_variant|MODIFIER|AC00694...</td>\n",
       "    </tr>\n",
       "    <tr>\n",
       "      <th>9</th>\n",
       "      <td>22</td>\n",
       "      <td>17073131</td>\n",
       "      <td>.</td>\n",
       "      <td>ANN=T|downstream_gene_variant|MODIFIER|AC00694...</td>\n",
       "    </tr>\n",
       "  </tbody>\n",
       "</table>\n",
       "</div>"
      ],
      "text/plain": [
       "   CHROM       POS ID                                               INFO\n",
       "0     22  17071756  .  ANN=C|downstream_gene_variant|MODIFIER|AC00694...\n",
       "1     22  17072035  .  ANN=T|downstream_gene_variant|MODIFIER|AC00694...\n",
       "2     22  17072258  .  ANN=A|downstream_gene_variant|MODIFIER|AC00694...\n",
       "3     22  17072674  .  ANN=A|downstream_gene_variant|MODIFIER|AC00694...\n",
       "4     22  17072747  .  ANN=C|downstream_gene_variant|MODIFIER|AC00694...\n",
       "5     22  17072781  .  ANN=T|downstream_gene_variant|MODIFIER|AC00694...\n",
       "6     22  17073043  .  ANN=T|downstream_gene_variant|MODIFIER|AC00694...\n",
       "7     22  17073066  .  ANN=G|downstream_gene_variant|MODIFIER|AC00694...\n",
       "8     22  17073119  .  ANN=T|downstream_gene_variant|MODIFIER|AC00694...\n",
       "9     22  17073131  .  ANN=T|downstream_gene_variant|MODIFIER|AC00694..."
      ]
     },
     "execution_count": 10,
     "metadata": {},
     "output_type": "execute_result"
    }
   ],
   "source": [
    "data2.head(10)"
   ]
  },
  {
   "cell_type": "code",
   "execution_count": 16,
   "metadata": {
    "collapsed": false
   },
   "outputs": [
    {
     "name": "stdout",
     "output_type": "stream",
     "text": [
      "<class 'pandas.core.frame.DataFrame'>\n",
      "RangeIndex: 10 entries, 0 to 9\n",
      "Data columns (total 4 columns):\n",
      "CHROM    10 non-null int64\n",
      "POS      10 non-null int64\n",
      "ID       10 non-null object\n",
      "INFO     10 non-null object\n",
      "dtypes: int64(2), object(2)\n",
      "memory usage: 392.0+ bytes\n",
      "None\n",
      "   CHROM       POS ID                                               INFO\n",
      "0     22  18609087  .  ANN=C|stop_gained|HIGH|RIMBP3|ENSG00000275793|...\n",
      "1     22  18609493  .  ANN=A|stop_gained|HIGH|RIMBP3|ENSG00000275793|...\n",
      "2     22  19207533  .  ANN=C|frameshift_variant|HIGH|CLTCL1|ENSG00000...\n",
      "3     22  19385634  .  ANN=A|stop_gained|HIGH|HIRA|ENSG00000100084|tr...\n",
      "4     22  19964193  .  ANN=T|structural_interaction_variant|HIGH|COMT...\n"
     ]
    }
   ],
   "source": [
    "conn = sqlite3.connect('biopython.db')\n",
    "curs = conn.cursor()\n",
    "\n",
    "query = '''\n",
    "SELECT CHROM, POS, ID, INFO\n",
    "FROM chromosome\n",
    "WHERE CHROM = 22 AND INFO LIKE '%HIGH%' \n",
    "LIMIT 10\n",
    "'''\n",
    "\n",
    "data2 = pd.read_sql(query, conn)\n",
    "print( data2.info())\n",
    "print( data2.head())"
   ]
  },
  {
   "cell_type": "code",
   "execution_count": 17,
   "metadata": {
    "collapsed": false
   },
   "outputs": [
    {
     "data": {
      "text/html": [
       "<div>\n",
       "<table border=\"1\" class=\"dataframe\">\n",
       "  <thead>\n",
       "    <tr style=\"text-align: right;\">\n",
       "      <th></th>\n",
       "      <th>CHROM</th>\n",
       "      <th>POS</th>\n",
       "      <th>ID</th>\n",
       "      <th>INFO</th>\n",
       "    </tr>\n",
       "  </thead>\n",
       "  <tbody>\n",
       "    <tr>\n",
       "      <th>0</th>\n",
       "      <td>22</td>\n",
       "      <td>18609087</td>\n",
       "      <td>.</td>\n",
       "      <td>ANN=C|stop_gained|HIGH|RIMBP3|ENSG00000275793|...</td>\n",
       "    </tr>\n",
       "    <tr>\n",
       "      <th>1</th>\n",
       "      <td>22</td>\n",
       "      <td>18609493</td>\n",
       "      <td>.</td>\n",
       "      <td>ANN=A|stop_gained|HIGH|RIMBP3|ENSG00000275793|...</td>\n",
       "    </tr>\n",
       "    <tr>\n",
       "      <th>2</th>\n",
       "      <td>22</td>\n",
       "      <td>19207533</td>\n",
       "      <td>.</td>\n",
       "      <td>ANN=C|frameshift_variant|HIGH|CLTCL1|ENSG00000...</td>\n",
       "    </tr>\n",
       "    <tr>\n",
       "      <th>3</th>\n",
       "      <td>22</td>\n",
       "      <td>19385634</td>\n",
       "      <td>.</td>\n",
       "      <td>ANN=A|stop_gained|HIGH|HIRA|ENSG00000100084|tr...</td>\n",
       "    </tr>\n",
       "    <tr>\n",
       "      <th>4</th>\n",
       "      <td>22</td>\n",
       "      <td>19964193</td>\n",
       "      <td>.</td>\n",
       "      <td>ANN=T|structural_interaction_variant|HIGH|COMT...</td>\n",
       "    </tr>\n",
       "    <tr>\n",
       "      <th>5</th>\n",
       "      <td>22</td>\n",
       "      <td>19964291</td>\n",
       "      <td>.</td>\n",
       "      <td>ANN=T|structural_interaction_variant|HIGH|COMT...</td>\n",
       "    </tr>\n",
       "    <tr>\n",
       "      <th>6</th>\n",
       "      <td>22</td>\n",
       "      <td>19968714</td>\n",
       "      <td>.</td>\n",
       "      <td>ANN=A|structural_interaction_variant|HIGH|COMT...</td>\n",
       "    </tr>\n",
       "    <tr>\n",
       "      <th>7</th>\n",
       "      <td>22</td>\n",
       "      <td>20113809</td>\n",
       "      <td>.</td>\n",
       "      <td>ANN=T|splice_acceptor_variant&amp;intron_variant|H...</td>\n",
       "    </tr>\n",
       "    <tr>\n",
       "      <th>8</th>\n",
       "      <td>22</td>\n",
       "      <td>20127026</td>\n",
       "      <td>.</td>\n",
       "      <td>ANN=T|stop_gained|HIGH|RANBP1|ENSG00000099901|...</td>\n",
       "    </tr>\n",
       "    <tr>\n",
       "      <th>9</th>\n",
       "      <td>22</td>\n",
       "      <td>20457872</td>\n",
       "      <td>.</td>\n",
       "      <td>ANN=CA|frameshift_variant|HIGH|KLHL22|ENSG0000...</td>\n",
       "    </tr>\n",
       "  </tbody>\n",
       "</table>\n",
       "</div>"
      ],
      "text/plain": [
       "   CHROM       POS ID                                               INFO\n",
       "0     22  18609087  .  ANN=C|stop_gained|HIGH|RIMBP3|ENSG00000275793|...\n",
       "1     22  18609493  .  ANN=A|stop_gained|HIGH|RIMBP3|ENSG00000275793|...\n",
       "2     22  19207533  .  ANN=C|frameshift_variant|HIGH|CLTCL1|ENSG00000...\n",
       "3     22  19385634  .  ANN=A|stop_gained|HIGH|HIRA|ENSG00000100084|tr...\n",
       "4     22  19964193  .  ANN=T|structural_interaction_variant|HIGH|COMT...\n",
       "5     22  19964291  .  ANN=T|structural_interaction_variant|HIGH|COMT...\n",
       "6     22  19968714  .  ANN=A|structural_interaction_variant|HIGH|COMT...\n",
       "7     22  20113809  .  ANN=T|splice_acceptor_variant&intron_variant|H...\n",
       "8     22  20127026  .  ANN=T|stop_gained|HIGH|RANBP1|ENSG00000099901|...\n",
       "9     22  20457872  .  ANN=CA|frameshift_variant|HIGH|KLHL22|ENSG0000..."
      ]
     },
     "execution_count": 17,
     "metadata": {},
     "output_type": "execute_result"
    }
   ],
   "source": [
    "data2.head(10)"
   ]
  },
  {
   "cell_type": "code",
   "execution_count": null,
   "metadata": {
    "collapsed": true
   },
   "outputs": [],
   "source": []
  }
 ],
 "metadata": {
  "anaconda-cloud": {},
  "kernelspec": {
   "display_name": "Python [conda root]",
   "language": "python",
   "name": "conda-root-py"
  },
  "language_info": {
   "codemirror_mode": {
    "name": "ipython",
    "version": 2
   },
   "file_extension": ".py",
   "mimetype": "text/x-python",
   "name": "python",
   "nbconvert_exporter": "python",
   "pygments_lexer": "ipython2",
   "version": "2.7.12"
  }
 },
 "nbformat": 4,
 "nbformat_minor": 2
}
